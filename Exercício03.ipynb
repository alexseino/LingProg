{
 "cells": [
  {
   "cell_type": "markdown",
   "metadata": {},
   "source": [
    "1 - Faça um Programa que peça dois números e imprima o maior deles.\n"
   ]
  },
  {
   "cell_type": "code",
   "execution_count": null,
   "metadata": {},
   "outputs": [],
   "source": [
    "n1 = input('Digite o primero numero: ')\n",
    "n2 = input('Digite o segundo numero: ')\n",
    "if n1 > n2:     \n",
    "        print ('n1 é maior que n2')\n",
    "elif n2 > n1:    \n",
    "        print ('n2 é maior que n1')\n",
    "else:     \n",
    "        print ('os números são iguais')\n",
    "\n"
   ]
  },
  {
   "cell_type": "markdown",
   "metadata": {},
   "source": [
    "2 - Faça um Programa que verifique se uma letra digitada é vogal ou consoante."
   ]
  },
  {
   "cell_type": "code",
   "execution_count": null,
   "metadata": {},
   "outputs": [],
   "source": [
    "letra = input('Digite uma letra (em minusculo) : ')\n",
    "if letra == 'a' or letra == 'e' or letra == 'i' or letra == 'o' or letra == 'u':\n",
    "    print ('A letra é uma vogal')\n",
    "else:\n",
    "    print ('A letra é uma consoante')\n"
   ]
  },
  {
   "cell_type": "markdown",
   "metadata": {},
   "source": [
    "3 - Faça um programa para a leitura de duas notas parciais de um aluno. O programa\n",
    "deve calcular a média alcançada por aluno e apresentar:\n",
    "- A mensagem \"Aprovado\", se a média alcançada for maior ou igual a sete;\n",
    "- A mensagem \"Reprovado\", se a média for menor do que sete;\n",
    "- A mensagem \"Aprovado com Distinção\", se a média for igual a dez."
   ]
  },
  {
   "cell_type": "code",
   "execution_count": null,
   "metadata": {},
   "outputs": [],
   "source": [
    "primeira_nota = int(input('Insira a primeira nota: '))\n",
    "segunda_nota = int(input('Insira a segunda nota: '))\n",
    "media = (primeira_nota + segunda_nota) / 2\n",
    "if media == 10:\n",
    "    print('Aprovado com Distinção')\n",
    "elif media >= 7:\n",
    "    print('Aprovado')\n",
    "else:\n",
    "    print('Reprovado')\n"
   ]
  },
  {
   "cell_type": "markdown",
   "metadata": {},
   "source": [
    "4 - Faça um Programa que leia três números e mostre-os em ordem decrescente."
   ]
  },
  {
   "cell_type": "code",
   "execution_count": null,
   "metadata": {},
   "outputs": [],
   "source": [
    "primeiro = int(input('Primeiro numero: '))\n",
    "segundo  = int(input('Segundo numero : '))\n",
    "terceiro = int(input('Terceiro numero: '))\n",
    "print(primeiro,'-',segundo,'-',terceiro)\n",
    "if(terceiro > segundo):\n",
    "    aux = terceiro\n",
    "    terceiro = segundo\n",
    "    segundo = aux\n",
    "if(segundo > primeiro):\n",
    "    aux = segundo\n",
    "    segundo = primeiro\n",
    "    primeiro = aux\n",
    "if(terceiro > segundo):\n",
    "    aux = terceiro\n",
    "    terceiro = segundo\n",
    "    segundo = aux\n",
    "print(primeiro,'-',segundo,'-',terceiro)\n"
   ]
  },
  {
   "cell_type": "markdown",
   "metadata": {},
   "source": [
    "5 - As Organizações Tabajara resolveram dar um aumento de salário aos seus\n",
    "colaboradores e lhe contrataram para desenvolver o programa que calculará os\n",
    "reajustes.\n",
    "Faça um programa que recebe o salário de um colaborador e o reajuste segundo o\n",
    "seguinte critério, baseado no salário atual:\n",
    "- salários até R$ 280,00 (incluindo) : aumento de 20%\n",
    "- salários entre R$ 280,00 e R$ 700,00 : aumento de 15%\n",
    "- salários entre R$ 700,00 e R$ 1500,00 : aumento de 10%\n",
    "- salários de R$ 1500,00 em diante : aumento de 5% Após o aumento ser realizado,\n",
    "informe na tela:\n",
    "- o salário antes do reajuste;\n",
    "- o percentual de aumento aplicado;\n",
    "- o valor do aumento;\n",
    "- o novo salário, após o aumento."
   ]
  },
  {
   "cell_type": "code",
   "execution_count": null,
   "metadata": {},
   "outputs": [],
   "source": [
    "salario = int(input('Insira o salário: '))\n",
    "if salario <= 280:\n",
    "    percentual = 0.20\n",
    "elif salario > 280 and salario <= 700:\n",
    "    percentual = 0.15\n",
    "elif salario > 700 and salario <= 1500:\n",
    "    percentual = 0.10\n",
    "else:\n",
    "    percentual = 0.05\n",
    "novo_salario = salario + (salario * percentual)\n",
    "\n",
    "print('Salário antes do reajuste:', salario)\n",
    "print(f'Percentual de aumento aplicado: {percentual * 100}%')\n",
    "print('Valor do aumento:', salario * percentual)\n",
    "print('Novo salário:', novo_salario)\n"
   ]
  },
  {
   "cell_type": "markdown",
   "metadata": {},
   "source": [
    "6 - Faça um Programa que leia um número e exiba o dia correspondente da semana.\n",
    "(1-Domingo, 2- Segunda, etc.), se digitar outro valor deve aparecer valor inválido.\n"
   ]
  },
  {
   "cell_type": "code",
   "execution_count": null,
   "metadata": {},
   "outputs": [],
   "source": [
    "dia = int(input(\"Insira o número: \"))\n",
    "if dia == 1:\n",
    "    print(\"Domingo!\")\n",
    "elif dia == 2:\n",
    "    print(\"Segunda-feira!\")\n",
    "elif dia == 3:\n",
    "    print(\"Terça-feira!\")\n",
    "elif dia == 4:\n",
    "    print(\"Quarta-feira!\")\n",
    "elif dia == 5:\n",
    "    print(\"Quinta-feira!\")\n",
    "elif dia == 6:\n",
    "    print(\"Sexta-feira!\")\n",
    "elif dia == 7:\n",
    "    print(\"Sábado!\")\n",
    "else:\n",
    "    print(\"Valor inválido!\")\n"
   ]
  },
  {
   "cell_type": "markdown",
   "metadata": {},
   "source": [
    "7 - Faça um programa que lê as duas notas parciais obtidas por um aluno numa\n",
    "disciplina ao longo de um semestre, e calcule a sua média. A atribuição de conceitos\n",
    "obedece à tabela abaixo:\n",
    " Média de Aproveitamento Conceito\n",
    " Entre 9.0 e 10.0 A\n",
    " Entre 7.5 e 9.0 B\n",
    " Entre 6.0 e 7.5 C\n",
    " Entre 4.0 e 6.0 D\n",
    " Entre 4.0 e zero E\n",
    "O algoritmo deve mostrar na tela as notas, a média, o conceito correspondente e a\n",
    "mensagem “APROVADO” se o conceito for A, B ou C ou “REPROVADO” se o conceito\n",
    "for D ou E."
   ]
  },
  {
   "cell_type": "code",
   "execution_count": null,
   "metadata": {},
   "outputs": [],
   "source": [
    "primeira_nota = int(input('Insira a primeira nota: '))\n",
    "segunda_nota = int(input('Insira a segunda nota: '))\n",
    "media = (primeira_nota + segunda_nota) / 2\n",
    "if media >= 9 and media <= 10:\n",
    "    conceito = 'A'\n",
    "elif media >= 7.5 and media < 9:\n",
    "    conceito = 'B'\n",
    "elif media >= 6 and media < 7.5:\n",
    "    conceito = 'C'\n",
    "elif media >= 4 and media < 6:\n",
    "    conceito = 'D'\n",
    "elif media < 4:\n",
    "    conceito = 'E'\n",
    "print('Nota 1: ', primeira_nota)\n",
    "print('Nota 2: ', segunda_nota)\n",
    "print('Média: ', media)\n",
    "print('Conceito: ', conceito)\n",
    "if conceito == \"A\" or conceito == \"B\" or conceito == \"C\":\n",
    "    print(\"APROVADO\")\n",
    "else:\n",
    "    print(\"REPROVADO\")\n"
   ]
  },
  {
   "cell_type": "markdown",
   "metadata": {},
   "source": [
    "8 - Faça um Programa que peça os 3 lados de um triângulo. O programa deverá\n",
    "informar se os valores podem ser um triângulo. Indique, caso os lados formem um\n",
    "triângulo, se o mesmo é: equilátero, isósceles ou escaleno.\n",
    "Dicas:\n",
    "- Três lados formam um triângulo quando a soma de quaisquer dois lados for maior\n",
    "que o terceiro;\n",
    "- Triângulo Equilátero: três lados iguais;\n",
    "- Triângulo Isósceles: quaisquer dois lados iguais;\n",
    "- Triângulo Escaleno: três lados diferentes;\n"
   ]
  },
  {
   "cell_type": "code",
   "execution_count": null,
   "metadata": {},
   "outputs": [],
   "source": [
    "l1 = int(input('Lado 1: '))\n",
    "l2 = int(input('Lado 2: '))\n",
    "l3 = int(input('Lado 3: '))\n",
    "if l1 > (l2 + l3) or l2 > (l1 + l3) or l3 > (l1 + l2):\n",
    "    print ('Não pode ser um triangulo')\n",
    "elif l1 == l2 == l3:\n",
    "    print ('Equilatero')\n",
    "elif l1 == l2 or l1 == l3 or l2 == l3:\n",
    "    print ('Isósceles')\n",
    "else:\n",
    "    print ('Escaleno')\n"
   ]
  },
  {
   "cell_type": "markdown",
   "metadata": {},
   "source": [
    "9 - Faça um programa que calcule as raízes de uma equação do segundo grau, na\n",
    "forma ax2 + bx + c. O programa deverá pedir os valores de a, b e c e fazer as\n",
    "consistências, informando ao usuário nas seguintes situações:\n",
    "- Se o usuário informar o valor de A igual a zero, a equação não é do segundo grau e\n",
    "o programa não deve fazer pedir os demais valores, sendo encerrado;\n",
    "- Se o delta calculado for negativo, a equação não possui raizes reais. Informe ao\n",
    "usuário e encerre o programa;\n",
    "- Se o delta calculado for igual a zero a equação possui apenas uma raiz real;\n",
    "informe-a ao usuário;\n",
    "- Se o delta for positivo, a equação possui duas raiz reais; informe-as ao usuário;"
   ]
  },
  {
   "cell_type": "code",
   "execution_count": null,
   "metadata": {},
   "outputs": [],
   "source": [
    "a = int(input('Insira o A: '))\n",
    "if a == 0:\n",
    "    print(\"Não é uma equação de segundo grau.\")\n",
    "else:\n",
    "    b = float(input('Insira o B: '))\n",
    "    c = float(input('Insira o C: '))\n",
    "    delta = b**2 - 4*a*c\n",
    "    if delta < 0:\n",
    "        print(\"A equação não possui raizes reais\")\n",
    "    elif delta == 0:\n",
    "        x = -b / (2*a)\n",
    "        print(\"A equação possui apenas uma raiz real:\", x)\n",
    "    else:\n",
    "        x1 = (-b + math.sqrt(delta)) / (2*a)\n",
    "        x2 = (-b - math.sqrt(delta)) / (2*a)\n",
    "        print(f\"A equação possui duas raiz reais: {x1} e {x2}\")\n"
   ]
  },
  {
   "cell_type": "markdown",
   "metadata": {},
   "source": [
    "10 - Faça um Programa para um caixa eletrônico. O programa deverá perguntar ao\n",
    "usuário a valor do saque e depois informar quantas notas de cada valor serão\n",
    "fornecidas. As notas disponíveis serão as de 1, 5, 10, 50 e 100 reais. O valor mínimo é\n",
    "de 10 reais e o máximo de 600 reais. O programa não deve se preocupar com a\n",
    "quantidade de notas existentes na máquina.\n",
    "- Exemplo 1: Para sacar a quantia de 256 reais, o programa fornece duas notas de\n",
    "100, uma nota de 50, uma nota de 5 e uma nota de 1;\n",
    "- Exemplo 2: Para sacar a quantia de 399 reais, o programa fornece três notas de\n",
    "100, uma nota de 50, quatro notas de 10, uma nota de 5 e quatro notas de 1."
   ]
  },
  {
   "cell_type": "code",
   "execution_count": null,
   "metadata": {},
   "outputs": [],
   "source": [
    "saque = int(input(\"Informe o valor do saque: \"))\n",
    "if saque >= 10 and saque <= 600:\n",
    "    nota100 = saque // 100\n",
    "    resto = saque % 100\n",
    "    print(f'{nota100} notas de 100 reais;')\n",
    "    nota50 = resto // 50\n",
    "    resto = resto % 50\n",
    "    print(f'{nota50} notas de 50 reais;')\n",
    "    nota10 = resto // 10\n",
    "    resto = resto % 10\n",
    "    print(f'{nota10} notas de 10 reais;')\n",
    "    nota5 = resto // 5\n",
    "    resto = resto % 5\n",
    "    print(f'{nota5} notas de 5 reais;')\n",
    "    print(f'{resto} notas de 1 real.')\n",
    "else:\n",
    "    print(\"Valor invalido.\")"
   ]
  },
  {
   "cell_type": "markdown",
   "metadata": {},
   "source": [
    "11 - Faça um programa que faça 5 perguntas para uma pessoa sobre um crime. As\n",
    "perguntas são:\n",
    "- \"Telefonou para a vítima?\"\n",
    "- \"Esteve no local do crime?\"\n",
    "- \"Mora perto da vítima?\"\n",
    "- \"Devia para a vítima?\"\n",
    "- \"Já trabalhou com a vítima?\"\n",
    "O programa deve no final emitir uma classificação sobre a participação da pessoa no crime. Se a pessoa responder positivamente a 2 questões ela deve ser classificada como \"Suspeita\", entre 3 e 4 como \"Cúmplice\" e 5 como \"Assassino\". Caso contrário,\n",
    "ele será classificado como \"Inocente\".\n"
   ]
  },
  {
   "cell_type": "code",
   "execution_count": null,
   "metadata": {},
   "outputs": [],
   "source": [
    "\n",
    "contador = 0\n",
    "respostas = [\n",
    "    input(\"Telefonou para a vítima? (s/n): \"),\n",
    "    input(\"Esteve no local do crime? (s/n): \"),\n",
    "    input(\"Mora perto da vítima? (s/n): \"),\n",
    "    input(\"Devia para a vítima? (s/n): \"),\n",
    "    input(\"Já trabalhou com a vítima? (s/n): \")\n",
    "]\n",
    "\n",
    "for resposta in respostas:\n",
    "    if resposta == \"s\":\n",
    "        contador += 1\n",
    "        \n",
    "if contador == 2:\n",
    "    print(\"Suspeita\")\n",
    "elif contador >= 3 and contador <= 4:\n",
    "    print(\"Cúmplice\")\n",
    "elif contador == 5:\n",
    "    print(\"Assassino\")\n",
    "else:\n",
    "    print(\"Inocente\")"
   ]
  },
  {
   "cell_type": "markdown",
   "metadata": {},
   "source": [
    "12 - Uma fruteira está vendendo frutas com a seguinte tabela de preços:\n",
    "- Até 5 Kg Acima de 5 Kg\n",
    "- Morango R$ 2,50 por Kg R$ 2,20 por Kg\n",
    "- Maçã R$ 1,80 por Kg R$ 1,50 por Kg\n",
    "Se o cliente comprar mais de 8 Kg em frutas ou o valor total da compra ultrapassar R$ 25,00, receberá ainda um desconto de 10% sobre este total. Escreva um algoritmo para ler a quantidade (em Kg) de morangos e a quantidade (em Kg) de maças adquiridas e escreva o valor a ser pago pelo cliente.\n"
   ]
  },
  {
   "cell_type": "code",
   "execution_count": null,
   "metadata": {},
   "outputs": [],
   "source": [
    "preco = 0\n",
    "kilo_morango = int(input(\"Insira a quantidade em kg de morangos: \"))\n",
    "kilo_maca = int(input(\"Insira a quantidade em kg de maçãs: \"))\n",
    "\n",
    "if kilo_morango < 5:\n",
    "    preco += kilo_morango * 2.50\n",
    "else:\n",
    "    preco += kilo_morango * 2.20\n",
    "    \n",
    "if kilo_maca < 5:\n",
    "    preco += kilo_maca * 1.80\n",
    "else:\n",
    "    preco += kilo_maca * 1.50\n",
    "    \n",
    "if preco > 25.00:\n",
    "    preco *= 0.90\n",
    "\n",
    "print('Valor a ser pago: ', preco)"
   ]
  },
  {
   "cell_type": "markdown",
   "metadata": {},
   "source": [
    "13 - Faça um programa que peça uma nota, entre zero e dez. Mostre uma mensagem\n",
    "caso o valor seja inválido e continue pedindo até que o usuário informe um valor\n",
    "válido."
   ]
  },
  {
   "cell_type": "code",
   "execution_count": null,
   "metadata": {},
   "outputs": [],
   "source": [
    "num = int(input(\"Insira uma nora entre zero e dez: \"))\n",
    "while num < 0 or num > 10:\n",
    "    print(\"Valor inválido.\")\n",
    "    num = int(input(\"Insira uma nora entre zero e dez: \"))\n",
    "else:\n",
    "    print(\"Valor válido.\")"
   ]
  },
  {
   "cell_type": "markdown",
   "metadata": {},
   "source": [
    "13 - Faça um programa que leia e valide as seguintes informações:\n",
    "- Nome: maior que 3 caracteres;\n",
    "- Idade: entre 0 e 150;\n",
    "- Salário: maior que zero;\n",
    "- Sexo: 'f' ou 'm';\n",
    "- Estado Civil: 's', 'c', 'v', 'd';"
   ]
  },
  {
   "cell_type": "code",
   "execution_count": null,
   "metadata": {},
   "outputs": [],
   "source": [
    "nome = input(\"Digite o seu nome: \")\n",
    "while len(nome) <= 3:\n",
    "    nome = input(\"Digite o seu nome[MAIOR QUE 3 CARACTERES]: \")\n",
    "idade = int(input(\"Digite a sua idade: \"))\n",
    "while idade < 0 or idade > 150:\n",
    "    idade = int(input(\"Digite a sua idade[ENTRE 0 E 150]: \"))\n",
    "salario = float(input(\"Digite o seu salário: \"))\n",
    "while salario <= 0:\n",
    "    salario = float(input(\"Digite o seu salário[MAIOR QUE 0]: \"))\n",
    "sexo = input(\"Digite o seu sexo [f, m]: \")\n",
    "while sexo != 'f' and sexo != 'm':\n",
    "    sexo = input(\"Digite o seu sexo[f OU m]: \")\n",
    "estado_civil = input(\"Digite o seu estado cívil [s, c, v, d]: \")\n",
    "while estado_civil != 's' and estado_civil != 'c' and estado_civil != 'v' and estado_civil != 'd':\n",
    "    estado_civil = input(\"Digite o seu estado civil[s, c, v, d]: \")"
   ]
  },
  {
   "cell_type": "markdown",
   "metadata": {},
   "source": [
    "14 - Faça um programa que leia 5 números e informe o maior número."
   ]
  },
  {
   "cell_type": "code",
   "execution_count": null,
   "metadata": {},
   "outputs": [],
   "source": [
    "n1 = float(input(\"Número 1: \"))\n",
    "n2 = float(input(\"Número 2: \"))\n",
    "n3 = float(input(\"Número 3: \"))\n",
    "n4 = float(input(\"Número 4: \"))\n",
    "n5 = float(input(\"Número 5: \"))\n",
    "\n",
    "lista = [n1, n2, n3, n4, n5]\n",
    "\n",
    "print(\"O maior número é: \", max(lista))"
   ]
  },
  {
   "cell_type": "markdown",
   "metadata": {},
   "source": [
    "15 - Faça um programa que leia 5 números e informe a soma e a média dos números.\n"
   ]
  },
  {
   "cell_type": "code",
   "execution_count": null,
   "metadata": {},
   "outputs": [],
   "source": [
    "n1 = float(input(\"Número 1: \"))\n",
    "n2 = float(input(\"Número 2: \"))\n",
    "n3 = float(input(\"Número 3: \"))\n",
    "n4 = float(input(\"Número 4: \"))\n",
    "n5 = float(input(\"Número 5: \"))\n",
    "\n",
    "soma = n1 + n2 + n3 + n4 + n5\n",
    "media = soma / 5\n",
    "\n",
    "print(\"Soma: \", soma, \"\\nMedia: \", media)"
   ]
  },
  {
   "cell_type": "markdown",
   "metadata": {},
   "source": [
    "16 - Faça um programa que imprima na tela apenas os números ímpares entre 1 e 50."
   ]
  },
  {
   "cell_type": "code",
   "execution_count": null,
   "metadata": {},
   "outputs": [],
   "source": [
    "for i in range(3, 50, 2):\n",
    "    print(i)\n",
    "\n",
    "print(list(range(3, 50, 2)))"
   ]
  },
  {
   "cell_type": "markdown",
   "metadata": {},
   "source": [
    "17 - Desenvolva um gerador de tabuada, capaz de gerar a tabuada de qualquer\n",
    "número inteiro entre 1 a 10. O usuário deve informar de qual numero ele deseja ver\n",
    "a tabuada. A saída deve ser conforme o exemplo abaixo:\n",
    "Tabuada de 5:\n",
    "5 X 1 = 5\n",
    "5 X 2 = 10\n",
    "...\n",
    "5 X 10 = 50\n"
   ]
  },
  {
   "cell_type": "code",
   "execution_count": null,
   "metadata": {},
   "outputs": [],
   "source": [
    "n = int(input(\"digite um numero de 1 a 10: \"))\n",
    "cont = 1\n",
    "\n",
    "while cont <= 10:\n",
    "    tab = n * cont\n",
    "    print(n, \"X\", cont, \"=\", tab)\n",
    "    cont = cont + 1"
   ]
  },
  {
   "cell_type": "markdown",
   "metadata": {},
   "source": [
    "18 - A série de Fibonacci é formada pela seqüência 1,1,2,3,5,8,13,21,34,55,... Faça um\n",
    "programa capaz de gerar a série até o n−ésimo termo."
   ]
  },
  {
   "cell_type": "code",
   "execution_count": null,
   "metadata": {},
   "outputs": [],
   "source": [
    "ultimo = 1\n",
    "penultimo = 1\n",
    "count = 1\n",
    "print(ultimo)\n",
    "print(penultimo)\n",
    "while count <= 9:\n",
    "        termo = ultimo + penultimo\n",
    "        penultimo = ultimo\n",
    "        ultimo = termo\n",
    "        count += 1\n",
    "        print(termo)"
   ]
  },
  {
   "cell_type": "markdown",
   "metadata": {},
   "source": [
    "19 - Faça um programa que calcule o fatorial de um número inteiro fornecido pelo\n",
    "usuário. Ex.: 5!=5.4.3.2.1=120\n"
   ]
  },
  {
   "cell_type": "code",
   "execution_count": null,
   "metadata": {},
   "outputs": [],
   "source": [
    "numero = int(input(\"Digite um número: \"))\n",
    "count1 = 0\n",
    "count = 1\n",
    "while count1 < numero:\n",
    "    fatorial = numero * (numero - count)\n",
    "    count = count - 1\n",
    "    count1 = count + 1\n",
    "\n",
    "print(fatorial)"
   ]
  },
  {
   "cell_type": "markdown",
   "metadata": {},
   "source": [
    "20 - O Sr. Manoel Joaquim possui uma grande loja de artigos de R$ 1,99, com cerca de 10 caixas. Para agilizar o cálculo de quanto cada cliente deve pagar ele desenvolveu um tabela que contém o número de itens que o cliente comprou e ao lado o valor da conta. Desta forma a atendente do caixa precisa apenas contar quantos itens o cliente está levando e olhar na tabela de preços. Você foi contratado para desenvolver o programa que monta esta tabela de preços, que conterá os preços de 1 até 50 produtos, conforme o exemplo abaixo:\n",
    "Lojas Quase Dois - Tabela de preços\n",
    "1 - R$ 1.99\n",
    "2 - R$ 3.98\n",
    "...\n",
    "50 - R$ 99.50"
   ]
  },
  {
   "cell_type": "code",
   "execution_count": null,
   "metadata": {},
   "outputs": [],
   "source": [
    "produtos = int(input(\"Digite a quantidade de produtos: \"))\n",
    "while produtos > 50:\n",
    "    produtos = int(input(\"Digite a quantidade de produtos[menos que 50]: \"))\n",
    "\n",
    "precos = []\n",
    "n_produto = 1\n",
    "count = 0\n",
    "\n",
    "for i in range(produtos):\n",
    "    print(\"Produto N° \", n_produto)\n",
    "    preco = precos.append(float(input(\"Digite o preco do produto: \")))\n",
    "    n_produto += 1\n",
    "\n",
    "n_produto = 1\n",
    "for j in range(produtos):\n",
    "    print(\"Produto N° \", n_produto, \"= \", precos[count])\n",
    "    count += 1\n",
    "    n_produto += 1"
   ]
  },
  {
   "cell_type": "markdown",
   "metadata": {},
   "source": [
    "21-  O Sr. Manoel Joaquim acaba de adquirir uma panificadora e pretende implantar a metodologia da tabelinha, que já é um sucesso na sua loja de 1,99. Você foi\n",
    "contratado para desenvolver o programa que monta a tabela de preços de pães, de 1 até 50 pães, a partir do preço do pão informado pelo usuário, conforme o exemplo\n",
    "abaixo:\n",
    "Preço do pão: R$ 0.18\n",
    "Panificadora Pão de Ontem - Tabela de preços\n",
    "1 - R$ 0.18\n",
    "2 - R$ 0.36\n",
    "...\n",
    "50 - R$ 9.00"
   ]
  },
  {
   "cell_type": "code",
   "execution_count": null,
   "metadata": {},
   "outputs": [],
   "source": [
    "paes = int(input(\"Digite a quantidade de pães: \"))\n",
    "while paes > 50:\n",
    "    produtos = int(input(\"Digite a quantidade de produtos[menos que 50]: \"))\n",
    "\n",
    "count = 1\n",
    "preco_pao = float(input(\"Qual é o preço do pão? : \"))\n",
    "\n",
    "for j in range(paes):\n",
    "    print(count, \"= R$\", round(preco_pao * count, 2))\n",
    "    count += 1"
   ]
  },
  {
   "cell_type": "markdown",
   "metadata": {},
   "source": [
    "22 - O Sr. Manoel Joaquim expandiu seus negócios para além dos negócios de 1,99 e agora possui uma loja de conveniências. Faça um programa que implemente uma\n",
    "caixa registradora rudimentar. O programa deverá receber um número desconhecido de valores referentes aos preços das mercadorias. Um valor zero deve\n",
    "ser informado pelo operador para indicar o final da compra. O programa deve então mostrar o total da compra e perguntar o valor em dinheiro que o cliente forneceu,\n",
    "para então calcular e mostrar o valor do troco. Após esta operação, o programa deverá voltar ao ponto inicial, para registrar a próxima compra. A saída deve ser\n",
    "conforme o exemplo abaixo:\n",
    "Lojas Tabajara\n",
    "Produto 1: R$ 2.20\n",
    "Produto 2: R$ 5.80\n",
    "Produto 3: R$ 0\n",
    "Total: R$ 9.00\n",
    "Dinheiro: R$ 20.00\n",
    "Troco: R$ 11.00"
   ]
  },
  {
   "cell_type": "code",
   "execution_count": null,
   "metadata": {},
   "outputs": [],
   "source": [
    "import time\n",
    "while True:\n",
    "    precos_produtos = []\n",
    "    preco_produto = True\n",
    "    n_produto = 1\n",
    "\n",
    "    while preco_produto != 0:\n",
    "        print(\"Produto n° \", n_produto)\n",
    "        preco_produto = float(input(\"Digite o preço do produto: \"))\n",
    "        precos_produtos.append(preco_produto)\n",
    "        n_produto += 1\n",
    "\n",
    "    print(\"Total: \", sum(precos_produtos))\n",
    "    dinheiro = float(input(\"Digite a quantida que irá pagar: \"))\n",
    "\n",
    "    while dinheiro < sum(precos_produtos):\n",
    "        dinheiro = float(input(\"Digite a quantida que irá pagar[maior que o total da compra] : \"))\n",
    "\n",
    "    print(\"Dinheiro: R$\", dinheiro)\n",
    "    print(\"Troco: R$\", dinheiro - sum(precos_produtos))\n",
    "    print(\"\\nPróxima compra em 3 segundos...\")\n",
    "    time.sleep(3)\n",
    "    print(\"\\n\" * 5)"
   ]
  },
  {
   "cell_type": "markdown",
   "metadata": {},
   "source": [
    "23 - Foi feita uma estatística em cinco cidades brasileiras para coletar dados sobre acidentes de trânsito. Foram obtidos os seguintes dados:\n",
    "- Código da cidade;\n",
    "- Número de veículos de passeio (em 1999);\n",
    "- Número de acidentes de trânsito com vítimas (em 1999). Deseja-se saber:\n",
    "- Qual o maior e menor índice de acidentes de transito e a que cidade pertence;\n",
    "- Qual a média de veículos nas cinco cidades juntas;\n",
    "- Qual a média de acidentes de trânsito nas cidades com menos de 2.000 veículos de\n",
    "passeio."
   ]
  },
  {
   "cell_type": "code",
   "execution_count": null,
   "metadata": {},
   "outputs": [],
   "source": [
    "cod_cidades = []\n",
    "n_veiculos = []\n",
    "n_acidentes = []\n",
    "acidentes_2000 = []\n",
    "\n",
    "for i in range(5):\n",
    "    print(\"\\nCidade número \", i + 1)\n",
    "    codigo_cidade = int(input(\"Digite o código da cidade: \"))\n",
    "    while codigo_cidade in cod_cidades:\n",
    "        print(\"[Código já digitado]\")\n",
    "        codigo_cidade = int(input(\"Digite outro código: \"))\n",
    "\n",
    "    numero_acidentes = int(input(\"Digite o número de acidentes: \"))\n",
    "    numero_veiculos = int(input(\"Digite o número de veiculos: \"))\n",
    "\n",
    "    if numero_veiculos > 2000:\n",
    "        acidentes_2000.append(numero_acidentes)\n",
    "        n_acidentes.append(numero_acidentes)\n",
    "    else:\n",
    "        n_acidentes.append(numero_acidentes)\n",
    "\n",
    "    n_veiculos.append(numero_veiculos)\n",
    "    cod_cidades.append(codigo_cidade)\n",
    "\n",
    "indice_acidentes_menor = n_acidentes.index(min(n_acidentes))\n",
    "indice_acidentes_maior = n_acidentes.index(max(n_acidentes))\n",
    "\n",
    "print(\"\\nMenos acidentes\\nQuantidade de acidentes: \", min(n_acidentes), \"\\nCódigo da cidade: \", cod_cidades[indice_acidentes_menor])\n",
    "print(\"\\nMais acidentes\\nQuantidade de acidentes: \", max(n_acidentes), \"\\nCódigo da cidade: \", cod_cidades[indice_acidentes_maior])\n",
    "\n",
    "media_veiculos = sum(n_veiculos) / len(n_veiculos)\n",
    "print(\"\\nMédia de veiculos nas 5 cidades: \", media_veiculos)\n",
    "\n",
    "media_acidentes_2000 = sum(acidentes_2000) / len(acidentes_2000)\n",
    "print(\"\\nMédia de acidentes nas cidades com menos de 2000 veículos: \", media_acidentes_2000)"
   ]
  },
  {
   "cell_type": "markdown",
   "metadata": {},
   "source": [
    "24 - Faça um programa que receba o valor de uma dívida e mostre uma tabela com os seguintes dados: valor da dívida, valor dos juros, quantidade de parcelas e valor da\n",
    "parcela. Os juros e a quantidade de parcelas seguem a tabela abaixo:\n",
    "Quantidade de Parcelas % de Juros sobre o valor inicial da dívida\n",
    "1 0\n",
    "3 10\n",
    "6 15\n",
    "9 20\n",
    "12 25\n",
    "Exemplo de saída do programa:\n",
    "Valor da Dívida Valor dos Juros Quantidade de Parcelas Valor da Parcela\n",
    "R$ 1.000,00 0 1 R$ 1.000,00\n",
    "R$ 1.100,00 100 3 R$ 366,00\n",
    "R$ 1.150,00 150 6 R$ 191,67\n"
   ]
  },
  {
   "cell_type": "code",
   "execution_count": null,
   "metadata": {},
   "outputs": [],
   "source": [
    "print(\"\\n\" * 5)\n",
    "divida = float(input(\"Digite o valor da divida: \"))\n",
    "parcela = 1\n",
    "print(\"\\n\" * 5)\n",
    "print(\"Valor da divida: \", end=\"  \")\n",
    "print(\"Valor do juros: \", end=\"  \")\n",
    "print(\"Quantidade de parcelas: \", end=\"  \")\n",
    "print(\"Valor da parcela: \")\n",
    "\n",
    "for i in range(5):\n",
    "    if parcela == 1:\n",
    "        juros = 1\n",
    "        valor_juros = 0\n",
    "    elif parcela == 4:\n",
    "        parcela = 3\n",
    "        juros = 1.10\n",
    "    elif parcela == 7 or parcela == 6:\n",
    "        parcela = 6\n",
    "        juros = 1.15\n",
    "    elif parcela == 10 or parcela == 9:\n",
    "        parcela = 9\n",
    "        juros = 1.20\n",
    "    elif parcela == 13 or parcela == 12:\n",
    "        parcela = 12\n",
    "        juros = 1.25\n",
    "\n",
    "    valor_juros = divida * (juros - 1)\n",
    "    divida_com_juros = divida * juros\n",
    "    valor_parcela = divida_com_juros / parcela\n",
    "\n",
    "    print(\"R$\", round(divida_com_juros, 2), end=\"            \")\n",
    "    print(round(valor_juros, 2), end=\"                  \")\n",
    "    print(parcela, end=\"                        \")\n",
    "    print(\"R$ \", round(valor_parcela, 2))\n",
    "    parcela += 3"
   ]
  },
  {
   "cell_type": "markdown",
   "metadata": {},
   "source": [
    "25 -  Faça um programa que mostre os n termos da Série a seguir:\n",
    " S = 1/1 + 2/3 + 3/5 + 4/7 + 5/9 + ... + n/m.\n",
    "Imprima no final a soma da série."
   ]
  },
  {
   "cell_type": "code",
   "execution_count": null,
   "metadata": {},
   "outputs": [],
   "source": [
    "n1 = 1\n",
    "n2 = 1\n",
    "n1_lista = []\n",
    "n2_lista = []\n",
    "print(\"S = \", end = \"\")\n",
    "while n1 <= 10 -1:\n",
    "    print(n1, \"/\", n2, \" + \", end=\"\")\n",
    "    n1_lista.append(n1)\n",
    "    n2_lista.append(n2)\n",
    "    n1 += 1\n",
    "    n2 += 2\n",
    "\n",
    "print(n1, \"/\", n2, \" = \", sum(n1_lista), \"/\", sum(n2_lista))"
   ]
  },
  {
   "cell_type": "code",
   "execution_count": null,
   "metadata": {},
   "outputs": [],
   "source": []
  },
  {
   "cell_type": "code",
   "execution_count": null,
   "metadata": {},
   "outputs": [],
   "source": []
  },
  {
   "cell_type": "code",
   "execution_count": null,
   "metadata": {},
   "outputs": [],
   "source": []
  },
  {
   "cell_type": "code",
   "execution_count": null,
   "metadata": {},
   "outputs": [],
   "source": []
  },
  {
   "cell_type": "code",
   "execution_count": null,
   "metadata": {},
   "outputs": [],
   "source": []
  }
 ],
 "metadata": {
  "kernelspec": {
   "display_name": "Python 3",
   "language": "python",
   "name": "python3"
  },
  "language_info": {
   "codemirror_mode": {
    "name": "ipython",
    "version": 3
   },
   "file_extension": ".py",
   "mimetype": "text/x-python",
   "name": "python",
   "nbconvert_exporter": "python",
   "pygments_lexer": "ipython3",
   "version": "3.7.1"
  }
 },
 "nbformat": 4,
 "nbformat_minor": 2
}
