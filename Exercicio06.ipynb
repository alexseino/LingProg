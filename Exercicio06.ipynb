(I) 1 Defina a função soma_nat que recebe como argumento um número natural n e devolve a soma de todos os números naturais até n.

Ex: soma_nat(5) = 15
In [98]:
def soma_nat(n):
    return n + soma_nat(n - 1) if n > 0 else 0
In [99]:
assert(soma_nat(3) == 6)
assert(soma_nat(5) == 15)
(II) 2 Defina a função div que recebe como argumentos dois números naturais m e n e devolve o resultado da divisão inteira de m por n. Neste exercício você não pode recorrer às operações aritméticas de multiplicação, divisão e resto da divisão inteira.

Ex: div(7,2) = 3
In [119]:
def div(m, n):
    return 1 + div(m - n, n) if m >= n else 0
In [124]:
assert(div(7,2) == 3)
(III) 4 Defina a função prod_lista que recebe como argumento uma lista de inteiros e devolve o produto dos seus elementos.
Ex: prod_lista([1,2,3,4,5,6]) = 720
In [100]:
def prod_lista(lista):
    return lista[len(lista) - 1] * prod_lista(lista[:-1]) if len(lista) > 0 else 1
In [101]:
assert(prod_lista([1,2,3,4,5,6]) == 720)
assert(prod_lista([2,2,2]) == 8)
(IV) 5 Defina a função contem_parQ que recebe como argumento uma lista de números inteiros w e devolve True se w contém um número par e False em caso contrário.

Ex: contem_parQ([2,3,1,2,3,4]) = True
Ex: contem_parQ([1,3,5,7]) = False
In [102]:
def contem_parQ(w):
    return False if len(w) == 0 or (w[len(w) - 1] % 2 != 0 and not contem_parQ(w[:-1])) else True
In [103]:
assert(contem_parQ([2,3,1,2,3,4]) == True)
assert(contem_parQ([1,3,5,7]) == False)
(V) 6 Defina a função todos_imparesQ que recebe como argumento uma lista de números inteiros w e devolve True se w contém apenas números ímpares e False em caso contrário.

Ex: todos_imparesQ([1,3,5,7]) = True
Ex: todos_imparesQ([]) = True
Ex: todos_imparesQ([1,2,3,4,5]) = False
In [110]:
def todos_imparesQ(w):
    return True if len(w) == 0 or (w[len(w) - 1] % 2 != 0 and todos_imparesQ(w[:-1])) else False
In [111]:
assert(todos_imparesQ([1,3,5,7]) == True)
assert(todos_imparesQ([]) == True)
assert(todos_imparesQ([1,2,3,4,5]) == False)
