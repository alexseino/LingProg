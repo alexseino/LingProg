{
 "cells": [
  {
   "cell_type": "markdown",
   "metadata": {},
   "source": [
    "1 - Faça um Programa que peça o raio de um círculo, calcule e mostre sua área.\n",
    "\n"
   ]
  },
  {
   "cell_type": "code",
   "execution_count": null,
   "metadata": {},
   "outputs": [],
   "source": [
    "r = float(input('Raio do círculo: '))\n",
    "area = 3.14 * (r ** 2)\n",
    "print ('Área do círculo: ', area)\n"
   ]
  },
  {
   "cell_type": "markdown",
   "metadata": {},
   "source": [
    "2 - Faça um Programa que calcule a área de um quadrado, em seguida mostre o dobro\n",
    "desta área para o usuário.\n"
   ]
  },
  {
   "cell_type": "code",
   "execution_count": null,
   "metadata": {},
   "outputs": [],
   "source": [
    "lados = input('Digite o tamanho dos lados do quadrado: ')\n",
    "area = float(lados) * float(lados)\n",
    "dobro = float(lados) * 2\n",
    "print('O dobro da área do quadrado é: ', area, 'E o dobro dela é: ', dobro)"
   ]
  },
  {
   "cell_type": "markdown",
   "metadata": {},
   "source": [
    "3 - Faça um Programa que pergunte quanto você ganha por hora e o número de horas\n",
    "trabalhadas no mês. Calcule e mostre o total do seu salário no referido mês."
   ]
  },
  {
   "cell_type": "code",
   "execution_count": null,
   "metadata": {},
   "outputs": [],
   "source": [
    "quant_hora = input('Quanto você ganha por hora: ')\n",
    "horas_mes = input('Quantas horas você trabalha no mês: ')\n",
    "\n",
    "salario = float(quant_hora) * int(horas_mes)\n",
    "print('O seu salário no final do mês será de R$', salario)"
   ]
  },
  {
   "cell_type": "markdown",
   "metadata": {},
   "source": [
    "4 - Faça um Programa que peça a temperatura em graus Farenheit, transforme e\n",
    "mostre a temperatura em graus Celsius. C = (5 * (F-32) / 9).\n"
   ]
  },
  {
   "cell_type": "code",
   "execution_count": null,
   "metadata": {},
   "outputs": [],
   "source": [
    "fahrenheit = input('Quantidade de graus Fahrenheit: ')\n",
    "celsius = (float(fahrenheit) - 32) / 1.8\n",
    "\n",
    "print(fahrenheit, ' graus Fahrenheit são iguais a ', celsius, ' graus celsius ')"
   ]
  },
  {
   "cell_type": "markdown",
   "metadata": {},
   "source": [
    "5 - Faça um Programa que peça a temperatura em graus Celsius, transforme e mostre\n",
    "em graus Farenheit.\n",
    "\n"
   ]
  },
  {
   "cell_type": "code",
   "execution_count": null,
   "metadata": {},
   "outputs": [],
   "source": [
    "celsius = input('Quantidade de graus Celsius: ')\n",
    "fahrenheit = (float(celsius) * 1.8) + 32\n",
    "\n",
    "print(celsius, ' graus Celsius são iguais a ', fahrenheit, ' graus Fahrenheit')"
   ]
  },
  {
   "cell_type": "markdown",
   "metadata": {},
   "source": [
    "6 - Faça um Programa que peça 2 números inteiros e um número real. Calcule e\n",
    "mostre:\n",
    "- o produto do dobro do primeiro com metade do segundo .\n",
    "- a soma do triplo do primeiro com o terceiro.\n",
    "- o terceiro elevado ao cubo"
   ]
  },
  {
   "cell_type": "code",
   "execution_count": null,
   "metadata": {},
   "outputs": [],
   "source": [
    "int1 = input('Digite um número inteiro: ')\n",
    "int2 = input('Digite outro número inteiro: ')\n",
    "real = input('Digite um número real')\n",
    "\n",
    "a = (int(int1) * 2) + (int(int2) / 2)\n",
    "b = (int(int1) * 3) + float(real)\n",
    "c = float(real) ** 3\n",
    "\n",
    "print(\"a : \", a, \"\\nb : \", b, \"\\nc : \", c)"
   ]
  },
  {
   "cell_type": "markdown",
   "metadata": {},
   "source": [
    "7 - João Papo-de-Pescador, homem de bem, comprou um microcomputador para\n",
    "controlar o rendimento diário de seu trabalho. Toda vez que ele traz um peso de\n",
    "peixes maior que o estabelecido pelo regulamento de pesca do estado de São Paulo\n",
    "(50 quilos) deve pagar uma multa de R$ 4,00 por quilo excedente. João precisa que\n",
    "você faça um programa que leia a variável peso (peso de peixes) e verifique se há\n",
    "excesso. Se houver, gravar na variável excesso e na variável multa o valor da multa\n",
    "que João deverá pagar. Caso contrário mostrar tais variáveis com o conteúdo ZERO."
   ]
  },
  {
   "cell_type": "code",
   "execution_count": null,
   "metadata": {},
   "outputs": [],
   "source": [
    "peso = input('Digite o peso dos peixes: ')\n",
    "execesso = int(peso) - 50\n",
    "multa = int(execesso) * 4\n",
    "\n",
    "if execesso < 1:\n",
    "    print('João não terá que pagar multa')\n",
    "else:\n",
    "    print('A multa que joão terá que pagar será de: ', multa)"
   ]
  },
  {
   "cell_type": "markdown",
   "metadata": {},
   "source": [
    "8 - Faça um Programa que pergunte quanto você ganha por hora e o número de horas trabalhadas no mês. Calcule e mostre o total do seu salário no referido mês, sabendo-se que são descontados 11% para o Imposto de Renda, 8% para o INSS e 5%\n",
    "para o sindicato, faça um programa que nos dê:\n",
    "- salário bruto.\n",
    "- quanto pagou ao INSS.\n",
    "- quanto pagou ao sindicato.\n",
    "- o salário líquido.\n",
    "- calcule os descontos e o salário líquido, conforme a tabela abaixo:\n",
    " + Salário Bruto : R$\n",
    " - IR (11%) : R$\n",
    " - INSS (8%) : R$\n",
    " - Sindicato ( 5%) : R$\n",
    " = Salário Liquido : R$\n",
    "Obs.: Salário Bruto - Descontos = Salário Líquido."
   ]
  },
  {
   "cell_type": "code",
   "execution_count": null,
   "metadata": {},
   "outputs": [],
   "source": [
    "quant_hora = input('Quanto você ganha por hora: ')\n",
    "horas_mes = input('Quantas horas você trabalha no mês: ')\n",
    "salario = float(quant_hora) * int(horas_mes)\n",
    "\n",
    "ir = float(salario) * 0.11\n",
    "inss = float(salario) * 0.08\n",
    "sindicato = float(salario) * 0.05\n",
    "salario_liquido = float(salario) - float(ir) - float(inss) - float(sindicato)\n",
    "\n",
    "print('Salário bruto: ', salario, '\\nIR: ', ir, '\\nINSS: ', inss, '\\nSindicato ', sindicato, '\\nSalário Liquido: ', salario_liquido)"
   ]
  },
  {
   "cell_type": "markdown",
   "metadata": {},
   "source": [
    "\n"
   ]
  },
  {
   "cell_type": "markdown",
   "metadata": {},
   "source": [
    "9 - Faça um programa que leia 2 strings e informe o conteúdo delas seguido do seu comprimento. Informe também se as duas strings possuem o mesmo comprimento e são iguais ou diferentes no conteúdo. Exemplo: String 1: Brasil Hexa 2018 String 2: Brasil! Hexa 2018! Tamanho de \"Brasil Hexa 2018\": 16 caracteres Tamanho de \"Brasil! Hexa 2018!\": 18 caracteres As duas strings são de tamanhos diferentes. As duas strings possuem conteúdo diferente."
   ]
  },
  {
   "cell_type": "code",
   "execution_count": null,
   "metadata": {},
   "outputs": [],
   "source": [
    "time = 'Brasil hexa 2018!'\n",
    "tamanho = 'Brasil! hexa 2018!'\n",
    "s1 = [16]\n",
    "s2 = [18]\n",
    "for letra in time :\n",
    "  s1.append(letra)\n",
    "for letra in tamanho:\n",
    "  s2.append(letra)\n",
    "if(s1 == s2):\n",
    "  print(\"Sao iguais!\")\n",
    "else:\n",
    "  print(\"Sao diferentes!\")\n",
    "\n",
    "if (len(time) == len(tamanho)):\n",
    "  print(\"Possuem o mesmo tamanho!\")\n",
    "else:\n",
    "  print(\"Nao possuem o mesmo tamanho!\")\n"
   ]
  },
  {
   "cell_type": "markdown",
   "metadata": {},
   "source": [
    "10 - Faça um programa que permita ao usuário digitar o seu nome e em seguida mostre o nome do usuário de trás para frente utilizando somente letras maiúsculas. Dica: lembre−se que ao informar o nome o usuário pode digitar letras maiúsculas ou minúsculas. Observação: não use loops."
   ]
  },
  {
   "cell_type": "code",
   "execution_count": null,
   "metadata": {},
   "outputs": [],
   "source": [
    "nome = input('Escreva seu nome: ')\n",
    "\n",
    "nome = nome.upper()\n",
    "resultado = ''\n",
    "\n",
    "print(nome[::-1])\n"
   ]
  },
  {
   "cell_type": "markdown",
   "metadata": {},
   "source": [
    "11 - Faça um programa que solicite a data de nascimento (dd/mm/aaaa) do usuário e imprima a data com o nome do mês por extenso. Data de Nascimento: 29/10/1973 Você nasceu em 29 de Outubro de 1973. Obs.: Não use desvio condicional nem loops. "
   ]
  },
  {
   "cell_type": "code",
   "execution_count": null,
   "metadata": {},
   "outputs": [],
   "source": [
    "meses = ['janeiro','fevereiro','março','abril','maio','junho','julho','agosto','setembro','outubro','novembro','dezembro']\n",
    "data = input('informe a data (dd/mm/aaaa): ')\n",
    "print (data.split('/')[0], 'de', meses[(int(data.split('/')[1])-1)], 'de', data.split('/')[2])\n",
    "dia, mes, ano = input('data (dd/mm/aaaa): ').split('/')\n",
    "meses = ['janeiro','fevereiro','março','abril','maio','junho','julho','agosto','setembro','outubro','novembro','dezembro']\n",
    "print ('Você nasce em:')\n",
    "print ('%s de %s de %s' %(dia, meses[int(mes) - 1], ano))\n",
    "\n"
   ]
  },
  {
   "cell_type": "markdown",
   "metadata": {},
   "source": [
    "12 - Leet é uma forma de se escrever o alfabeto latino usando outros símbolos em lugar das letras, como números por exemplo. A própria palavra leet admite muitas variações, como l33t ou 1337. O uso do leet reflete uma subcultura relacionada ao mundo dos jogos de computador e internet, sendo muito usada para confundir os iniciantes e afirmar-se como parte de um grupo. Pesquise sobre as principais formas de traduzir as letras. Depois, faça um programa que peça uma texto e transforme-o para a grafia leet speak. Desafio: não use loops nem desvios condicionais."
   ]
  },
  {
   "cell_type": "code",
   "execution_count": null,
   "metadata": {},
   "outputs": [],
   "source": [
    "def leet(text):\n",
    "    getchar = lambda c: chars[c] if c in chars else c\n",
    "    chars = {\"a\":\"4\",\"e\":\"3\",\"l\":\"1\",\"o\":\"0\",\"s\":\"5\"}\n",
    "    return ''.join(getchar(c) for c in text)\n",
    "texto = input(\"Digite algo: \")\n",
    "print(\"\\n\",leet(texto))"
   ]
  },
  {
   "cell_type": "code",
   "execution_count": null,
   "metadata": {},
   "outputs": [],
   "source": []
  }
 ],
 "metadata": {
  "kernelspec": {
   "display_name": "Python 3",
   "language": "python",
   "name": "python3"
  },
  "language_info": {
   "codemirror_mode": {
    "name": "ipython",
    "version": 3
   },
   "file_extension": ".py",
   "mimetype": "text/x-python",
   "name": "python",
   "nbconvert_exporter": "python",
   "pygments_lexer": "ipython3",
   "version": "3.7.1"
  }
 },
 "nbformat": 4,
 "nbformat_minor": 2
}
